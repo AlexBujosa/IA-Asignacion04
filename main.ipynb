{
 "cells": [
  {
   "attachments": {},
   "cell_type": "markdown",
   "metadata": {},
   "source": [
    "1098913 Alex Bujosa"
   ]
  },
  {
   "attachments": {},
   "cell_type": "markdown",
   "metadata": {},
   "source": [
    "# Asignación 4"
   ]
  },
  {
   "cell_type": "code",
   "execution_count": 1,
   "metadata": {},
   "outputs": [],
   "source": [
    "# Importar dependencias\n",
    "\n",
    "import numpy as np\n",
    "import pandas as pd\n",
    "from pandas import read_csv\n",
    "import matplotlib.pyplot as plt\n",
    "import seaborn as sns\n",
    "\n",
    "from sklearn.metrics import r2_score, mean_absolute_percentage_error\n",
    "from sklearn.linear_model import LinearRegression\n",
    "from sklearn.model_selection import train_test_split\n",
    "from sklearn.preprocessing import OneHotEncoder, StandardScaler"
   ]
  },
  {
   "attachments": {},
   "cell_type": "markdown",
   "metadata": {},
   "source": [
    "1. Utilizando el dataset de “House Prices.csv” realizar el mapa de calor utilizando la librería de seaborn."
   ]
  },
  {
   "cell_type": "code",
   "execution_count": null,
   "metadata": {},
   "outputs": [],
   "source": [
    "df = read_csv('house-prices.csv', index_col='Home')\n",
    "df.head()"
   ]
  },
  {
   "cell_type": "code",
   "execution_count": null,
   "metadata": {},
   "outputs": [],
   "source": [
    "# Correlacion Pearson\n",
    "corr1 = df.corr(method='spearman', numeric_only=False)\n",
    "corr_pairs1 = corr1.unstack()\n",
    "print(corr_pairs1[\"Price\"])"
   ]
  },
  {
   "cell_type": "code",
   "execution_count": null,
   "metadata": {},
   "outputs": [],
   "source": [
    "# Visualizar Heatmap\n",
    "fig, axes = plt.subplots(figsize=(10, 5))\n",
    "\n",
    "sns.heatmap(corr1, annot=True, annot_kws={\"size\": 10}, cmap= 'coolwarm', ax=axes)\n",
    "axes.set_title('House Prices', fontsize=14)\n",
    "\n",
    "plt.tight_layout()"
   ]
  },
  {
   "attachments": {},
   "cell_type": "markdown",
   "metadata": {},
   "source": [
    "2. Cambiar los límites del colormap."
   ]
  },
  {
   "cell_type": "code",
   "execution_count": null,
   "metadata": {},
   "outputs": [],
   "source": [
    "# Visualizar Heatmap\n",
    "fig, axes = plt.subplots(figsize=(10, 5))\n",
    "\n",
    "sns.heatmap(corr1, annot=True, vmin=0, vmax=0.8, annot_kws={\"size\": 10}, cmap= 'coolwarm', ax=axes)\n",
    "axes.set_title('House Prices', fontsize=14)\n",
    "\n",
    "plt.tight_layout()"
   ]
  },
  {
   "attachments": {},
   "cell_type": "markdown",
   "metadata": {},
   "source": [
    "3. Agregar líneas entre cada celda."
   ]
  },
  {
   "cell_type": "code",
   "execution_count": null,
   "metadata": {},
   "outputs": [],
   "source": [
    "# Visualizar Heatmap\n",
    "fig, axes = plt.subplots(figsize=(10, 5))\n",
    "\n",
    "sns.heatmap(corr1, annot=True, linewidth=2, annot_kws={\"size\": 10}, cmap= 'coolwarm', ax=axes)\n",
    "axes.set_title('House Prices', fontsize=14)\n",
    "\n",
    "plt.tight_layout()"
   ]
  },
  {
   "attachments": {},
   "cell_type": "markdown",
   "metadata": {},
   "source": [
    "4. Utilizar un colormap diferente al mostrado."
   ]
  },
  {
   "cell_type": "code",
   "execution_count": null,
   "metadata": {},
   "outputs": [],
   "source": [
    "# Visualizar Heatmap\n",
    "fig, axes = plt.subplots(figsize=(10, 5))\n",
    "\n",
    "sns.heatmap(corr1, annot=True, linewidth=2, annot_kws={\"size\": 10}, cmap= 'cubehelix', ax=axes)\n",
    "axes.set_title('House Prices', fontsize=14)\n",
    "\n",
    "plt.tight_layout()"
   ]
  },
  {
   "attachments": {},
   "cell_type": "markdown",
   "metadata": {},
   "source": [
    "5. Use una máscara para trazar solo una parte de una matriz."
   ]
  },
  {
   "cell_type": "code",
   "execution_count": null,
   "metadata": {},
   "outputs": [],
   "source": [
    "# Generate a mask for the upper triangle\n",
    "mask = np.triu(np.ones_like(corr1, dtype=bool))\n",
    "\n",
    "# Generate a custom diverging colormap\n",
    "cmap = sns.diverging_palette(230, 20, as_cmap=True)\n",
    "\n",
    "# Visualizar Heatmap\n",
    "fig, axes = plt.subplots(figsize=(10, 8))\n",
    "\n",
    "sns.heatmap(corr1, annot=True, linewidth=2, annot_kws={\"size\": 8}, cmap=cmap, ax=axes, mask=mask, center=0, square=True)\n",
    "axes.set_title('House Prices', fontsize=14)\n",
    "\n",
    "plt.tight_layout()"
   ]
  },
  {
   "attachments": {},
   "cell_type": "markdown",
   "metadata": {},
   "source": [
    "6. Análisis los resultados obtenidos del mapa de calor."
   ]
  },
  {
   "attachments": {},
   "cell_type": "markdown",
   "metadata": {},
   "source": [
    "En este análisis hemos podido identificar con mayor claridad las variables que si tienen impacto en nuestra variable independiente que es el tiempo y que variables como Offers no tienen nada de impacto en nuestro estudio.\n",
    "\n",
    "Los mayores resultados los hemos encontrados en:\n",
    "1. Sqft\n",
    "2. Bedrooms\n",
    "3. Bathrooms\n",
    "4. Brick (el unico que tiene impacto es Yes)\n",
    "5. Neighborhood (El unico que tiene impacto es West)\n",
    "\n",
    "Estas serán las variables que utilizaremos en nuestro análisis"
   ]
  },
  {
   "cell_type": "code",
   "execution_count": null,
   "metadata": {},
   "outputs": [],
   "source": [
    "df"
   ]
  },
  {
   "cell_type": "code",
   "execution_count": null,
   "metadata": {},
   "outputs": [],
   "source": [
    "X = df[['SqFt', 'Bedrooms', 'Bathrooms', 'Brick_No', 'Brick_Yes', 'Neighborhood_East', 'Neighborhood_North', 'Neighborhood_West']]\n",
    "\n",
    "y = df[\"Price\"]\n",
    "\n",
    "# Step 5: Split the dataset\n",
    "X_mult_train, X_mult_test, y_mult_train, y_mult_test = train_test_split(X, y, test_size=0.3, random_state=42)\n",
    "\n",
    "# Step 6: Create the model\n",
    "multipleVariableModel = LinearRegression()\n",
    "\n",
    "# Step 7: Train the model\n",
    "multipleVariableModel.fit(X_mult_train, y_mult_train)\n"
   ]
  },
  {
   "cell_type": "code",
   "execution_count": null,
   "metadata": {},
   "outputs": [],
   "source": [
    "# Step 8: Evaluate the model\n",
    "y_mult_pred = multipleVariableModel.predict(X_mult_test)"
   ]
  },
  {
   "attachments": {},
   "cell_type": "markdown",
   "metadata": {},
   "source": [
    "Realizar la visualización de los resultados obtenidos por los modelos."
   ]
  },
  {
   "cell_type": "code",
   "execution_count": null,
   "metadata": {},
   "outputs": [],
   "source": [
    "fig = plt.subplots(figsize=(10,5))\n",
    "plt.scatter(y_mult_test, y_mult_pred)\n",
    "plt.xlabel(\"Actual Prices\")\n",
    "plt.ylabel(\"Predicted Prices\")\n",
    "plt.title(\"Multiple Variable Regression\")\n",
    "\n",
    "# Add a line plot of the form y = x\n",
    "max_val = max(y_mult_test.max(), y_mult_pred.max())\n",
    "plt.plot([0, max_val], [0, max_val], color='red')\n",
    "plt.xlim(75000, 180000)\n",
    "\n",
    "plt.show()"
   ]
  },
  {
   "attachments": {},
   "cell_type": "markdown",
   "metadata": {},
   "source": [
    "Evaluar los valores pronosticado con las métricas r cuadrado y r cuadrado ajustado."
   ]
  },
  {
   "cell_type": "code",
   "execution_count": null,
   "metadata": {},
   "outputs": [],
   "source": [
    "# calculate the R-squared value\n",
    "r2 = r2_score(y_mult_test, y_mult_pred)\n",
    "\n",
    "# calculate the adjusted R-squared value\n",
    "n = len(y_mult_test)\n",
    "k = X_mult_test.shape[1]\n",
    "adj_r2 = 1 - ((1 - r2) * (n - 1) / (n - k - 1))\n",
    "\n",
    "# mean absolute percentage error\n",
    "# calculate the MAPE value\n",
    "mape = np.mean(np.abs((y_mult_test - y_mult_pred) / y_mult_test)) * 100\n",
    "\n",
    "# Evaluar valores reales versus valores estimados.\n",
    "\n",
    "print(\"Para el modelo multivartiable\")\n",
    "\n",
    "print(\"R2:\", \"{0:.4f}\".format(r2_score(y_mult_test, y_mult_pred)),)\n",
    "print('Adjusted R-squared:', adj_r2)\n",
    "print('MAPE:', mape)"
   ]
  },
  {
   "attachments": {},
   "cell_type": "markdown",
   "metadata": {},
   "source": [
    "Compare los resultados de utilizar con respecto a la práctica anterior."
   ]
  },
  {
   "attachments": {},
   "cell_type": "markdown",
   "metadata": {},
   "source": [
    "| Métrica modelo multivariable | Asignacion 3 | Asignacion 4 |\n",
    "|------------------------------|--------------|--------------|\n",
    "| R2                           | 0.649       | 0.7694       |\n",
    "| R2 Ajustado                  | 0.5836       | 0.7079       |\n",
    "| MAPE                         | 9.4755       | 7.6954       |"
   ]
  },
  {
   "attachments": {},
   "cell_type": "markdown",
   "metadata": {},
   "source": [
    "## Entregar un reporte de los resultados obtenidos."
   ]
  },
  {
   "attachments": {},
   "cell_type": "markdown",
   "metadata": {},
   "source": [
    "Se aprecia una mejoría en la calidad de nuestro modelo con una variación del 0.64 al 0.7694 y esto gracias al análisis de correlación que realizamos desde un inicio. Las variables de correcion negativa las descartamos y asi fuimos aproximandonos al resultado\n"
   ]
  },
  {
   "cell_type": "markdown",
   "metadata": {},
   "source": []
  }
 ],
 "metadata": {
  "kernelspec": {
   "display_name": "Python 3",
   "language": "python",
   "name": "python3"
  },
  "language_info": {
   "codemirror_mode": {
    "name": "ipython",
    "version": 3
   },
   "file_extension": ".py",
   "mimetype": "text/x-python",
   "name": "python",
   "nbconvert_exporter": "python",
   "pygments_lexer": "ipython3",
   "version": "3.9.13"
  },
  "orig_nbformat": 4
 },
 "nbformat": 4,
 "nbformat_minor": 2
}
